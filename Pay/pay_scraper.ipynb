{
 "cells": [
  {
   "cell_type": "code",
   "execution_count": null,
   "metadata": {
    "collapsed": true
   },
   "outputs": [],
   "source": [
    "from selenium import webdriver\n",
    "from selenium.webdriver.support.ui import Select, WebDriverWait\n",
    "import time\n",
    "state = \"SelectedState\"\n",
    "type = \"SelectedType\"\n",
    "Stype= \"R\"\n",
    "wage_area = \"SelectedGSLocality\"\n",
    "doc_type = \"SelectedDocumentType\"\n",
    "year = \"SelectedScheduleYear\"\n",
    "\n",
    "browser = webdriver.Chrome(\"C:\\chromedriver_win32\\chromedriver.exe\")\n",
    "browser.get(\"https://www.cpms.osd.mil/Subpage/AFWageSchedules/\")\n",
    "def get_options(menu):\n",
    "    select = Select(browser.find_element_by_id(menu))\n",
    "    options = select.options\n",
    "    return select, options\n",
    "state_select = Select(browser.find_element_by_id(state))\n",
    "state_options = state_select.options\n",
    "for i in state_options:\n",
    "    state_select.select_by_value(i)"
   ]
  },
  {
   "cell_type": "code",
   "execution_count": null,
   "metadata": {
    "collapsed": true
   },
   "outputs": [],
   "source": [
    "select = browser.find_element_by_xpath( \"//select[@id='SelectedState']\")  #get the select element\n",
    "options = select.find_elements_by_tag_name(\"option\") #get all the options into a list\n",
    "\n",
    "optionsList = []\n",
    "\n",
    "for option in options: #iterate over the options, place attribute value in list\n",
    "    optionsList.append(option.get_attribute(\"value\"))\n",
    "\n",
    "for optionValue in optionsList:\n",
    "    if optionValue != \"\":\n",
    "        print(\"starting loop on option %s\" % optionValue)\n",
    "\n",
    "        select = Select(browser.find_element_by_xpath( \"//select[@id='SelectedState']\"))\n",
    "        select.select_by_value(optionValue)\n",
    "        time.sleep(1)\n",
    "        types = Select(browser.find_element_by_xpath(\"//select[@id='SelectedType']\"))\n",
    "        type_options = browser.find_elements_by_tag_name(\"option\")\n",
    "        type_option_list = []\n",
    "        for option in type_options:\n",
    "            type_option_list.append(option.get_attribute(\"value\"))\n",
    "        type_option_list = set(type_option_list) - set(optionsList)\n",
    "        for type_value in type_option_list:\n",
    "            types = Select(browser.find_element_by_xpath(\"//select[@id='SelectedType']\"))\n",
    "            types.select_by_value(type_value)"
   ]
  }
 ],
 "metadata": {
  "kernelspec": {
   "display_name": "Python 2",
   "language": "python",
   "name": "python2"
  },
  "language_info": {
   "codemirror_mode": {
    "name": "ipython",
    "version": 2.0
   },
   "file_extension": ".py",
   "mimetype": "text/x-python",
   "name": "python",
   "nbconvert_exporter": "python",
   "pygments_lexer": "ipython2",
   "version": "2.7.6"
  }
 },
 "nbformat": 4,
 "nbformat_minor": 0
}